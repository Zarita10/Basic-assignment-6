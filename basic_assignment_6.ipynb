{
  "nbformat": 4,
  "nbformat_minor": 0,
  "metadata": {
    "colab": {
      "provenance": []
    },
    "kernelspec": {
      "name": "python3",
      "display_name": "Python 3"
    },
    "language_info": {
      "name": "python"
    }
  },
  "cells": [
    {
      "cell_type": "markdown",
      "source": [
        "1. What are escape characters, and how do you use them?\n",
        "\n",
        "-In Python strings, the backslash \"\" is a special character, also called the \"escape\" character. It is used in representing certain whitespace characters: \"\\t\" is a tab, \"\\n\" is a newline, and \"\\r\" is a carriage return\n",
        "\n",
        "2. What do the escape characters n and t stand for?\n",
        "\n",
        "-\"\\t\" is a tab, \"\\n\" is a newline\n",
        "\n",
        "3. What is the way to include backslash characters in a string?\n",
        "-\n",
        "its a back slash \\ in a line\n",
        "\n",
        "4.The string &quot;Howl&#39;s Moving Castle&quot; is a correct value. Why isn&#39;t the single quote character in the\n",
        "word Howl&#39;s not escaped a problem?\n",
        "\n",
        "-The single quote in Howl's is fine because you've used double quotes to mark the beginning and end of the string. like wise we can use double quotes in with single quotes\n",
        "\n",
        "5. How do you write a string of newlines if you don&#39;t want to use the n character?\n",
        "-printing something in new line\n",
        "\n",
        "-newline\n",
        "\n",
        "6. What are the values of the given expressions?\n",
        "&#39;Hello, world!&#39;[1]\n",
        "&#39;Hello, world!&#39;[0:5]\n",
        "&#39;Hello, world!&#39;[:5]\n",
        "&#39;Hello, world!&#39;[3:]"
      ],
      "metadata": {
        "id": "c2zmp0b9T5SA"
      }
    },
    {
      "cell_type": "code",
      "source": [
        "print ('Hello, world!'[1])"
      ],
      "metadata": {
        "colab": {
          "base_uri": "https://localhost:8080/"
        },
        "id": "DY8rLRt0VFet",
        "outputId": "1569ab57-6798-4649-85cd-c6d7b5fcb3f3"
      },
      "execution_count": 1,
      "outputs": [
        {
          "output_type": "stream",
          "name": "stdout",
          "text": [
            "e\n"
          ]
        }
      ]
    },
    {
      "cell_type": "code",
      "source": [
        "print ('Hello, world!'[0:5])"
      ],
      "metadata": {
        "colab": {
          "base_uri": "https://localhost:8080/"
        },
        "id": "8-4zyrXoVZwg",
        "outputId": "b065575d-d796-42e6-d5f9-ffced9e98df2"
      },
      "execution_count": 2,
      "outputs": [
        {
          "output_type": "stream",
          "name": "stdout",
          "text": [
            "Hello\n"
          ]
        }
      ]
    },
    {
      "cell_type": "code",
      "source": [
        "print ('Hello, world!'[:5])"
      ],
      "metadata": {
        "colab": {
          "base_uri": "https://localhost:8080/"
        },
        "id": "sDVU0MVKVfnb",
        "outputId": "856c67b7-9360-41ce-dd8b-31889481df2a"
      },
      "execution_count": 3,
      "outputs": [
        {
          "output_type": "stream",
          "name": "stdout",
          "text": [
            "Hello\n"
          ]
        }
      ]
    },
    {
      "cell_type": "code",
      "source": [
        "print ('Hello, world!'[3:])"
      ],
      "metadata": {
        "colab": {
          "base_uri": "https://localhost:8080/"
        },
        "id": "dx_rBJ8uVk5j",
        "outputId": "ea9f5061-9fd7-4046-d9fe-e0e7538c172b"
      },
      "execution_count": 4,
      "outputs": [
        {
          "output_type": "stream",
          "name": "stdout",
          "text": [
            "lo, world!\n"
          ]
        }
      ]
    },
    {
      "cell_type": "markdown",
      "source": [
        "7. What are the values of the following expressions?\n",
        "&#39;Hello&#39;.upper()\n",
        "&#39;Hello&#39;.upper().isupper()\n",
        "&#39;Hello&#39;.upper().lower()"
      ],
      "metadata": {
        "id": "Ltm8OnzjVurP"
      }
    },
    {
      "cell_type": "code",
      "source": [
        "print('Hello'.upper())"
      ],
      "metadata": {
        "colab": {
          "base_uri": "https://localhost:8080/"
        },
        "id": "0Fikv29WVvqf",
        "outputId": "28ebfebf-ba46-497f-a537-dfd1278e9b74"
      },
      "execution_count": 5,
      "outputs": [
        {
          "output_type": "stream",
          "name": "stdout",
          "text": [
            "HELLO\n"
          ]
        }
      ]
    },
    {
      "cell_type": "code",
      "source": [
        "print('Hello'.upper().isupper())"
      ],
      "metadata": {
        "colab": {
          "base_uri": "https://localhost:8080/"
        },
        "id": "NhNZl01XV7Hd",
        "outputId": "bafafb99-06ec-4108-af4f-d8859d0b4f6b"
      },
      "execution_count": 6,
      "outputs": [
        {
          "output_type": "stream",
          "name": "stdout",
          "text": [
            "True\n"
          ]
        }
      ]
    },
    {
      "cell_type": "code",
      "source": [
        "print('Hello'.upper().lower())"
      ],
      "metadata": {
        "colab": {
          "base_uri": "https://localhost:8080/"
        },
        "id": "Y3vC9dJpWE6B",
        "outputId": "98cf6560-fff2-4010-c5a1-ed273fc1bbaa"
      },
      "execution_count": 7,
      "outputs": [
        {
          "output_type": "stream",
          "name": "stdout",
          "text": [
            "hello\n"
          ]
        }
      ]
    },
    {
      "cell_type": "markdown",
      "source": [
        "8. What are the values of the following expressions?\n",
        "&#39;Remember, remember, the fifth of July.&#39;.split()\n",
        "&#39;-&#39;.join(&#39;There can only one.&#39;.split())"
      ],
      "metadata": {
        "id": "H0CyazOyWQJ5"
      }
    },
    {
      "cell_type": "code",
      "source": [
        "print('Remember, remember, the fifth of July.'.split())"
      ],
      "metadata": {
        "colab": {
          "base_uri": "https://localhost:8080/"
        },
        "id": "2BKzS3VKWRJ2",
        "outputId": "d06e4b40-26ab-42b1-b6c8-bbf588c1c903"
      },
      "execution_count": 8,
      "outputs": [
        {
          "output_type": "stream",
          "name": "stdout",
          "text": [
            "['Remember,', 'remember,', 'the', 'fifth', 'of', 'July.']\n"
          ]
        }
      ]
    },
    {
      "cell_type": "code",
      "source": [
        "print ('-'.join('There can only one.'.split()))"
      ],
      "metadata": {
        "colab": {
          "base_uri": "https://localhost:8080/"
        },
        "id": "63CDJmmjWfG1",
        "outputId": "203f1841-26cc-4175-d65c-8bdff0ad836b"
      },
      "execution_count": 10,
      "outputs": [
        {
          "output_type": "stream",
          "name": "stdout",
          "text": [
            "There-can-only-one.\n"
          ]
        }
      ]
    },
    {
      "cell_type": "markdown",
      "source": [
        "9. What are the methods for right-justifying, left-justifying, and centering a string?\n"
      ],
      "metadata": {
        "id": "u7Z37xJdWymU"
      }
    },
    {
      "cell_type": "code",
      "source": [
        "\n",
        "# left justified\n",
        "str =\"Nabila\"\n",
        "str.ljust(10,\"-\")"
      ],
      "metadata": {
        "colab": {
          "base_uri": "https://localhost:8080/",
          "height": 36
        },
        "id": "yTGH5VDCW8Eu",
        "outputId": "762e7e68-35ac-49e2-bd56-116efc199462"
      },
      "execution_count": 11,
      "outputs": [
        {
          "output_type": "execute_result",
          "data": {
            "text/plain": [
              "'Nabila----'"
            ],
            "application/vnd.google.colaboratory.intrinsic+json": {
              "type": "string"
            }
          },
          "metadata": {},
          "execution_count": 11
        }
      ]
    },
    {
      "cell_type": "code",
      "source": [
        "\n",
        "# right justified\n",
        "str =\"My name is\"\n",
        "str.rjust(40,'*')"
      ],
      "metadata": {
        "colab": {
          "base_uri": "https://localhost:8080/",
          "height": 36
        },
        "id": "VbBW7yJRXAN-",
        "outputId": "e94cfc02-4168-4eaf-a299-ab178befd5b2"
      },
      "execution_count": 12,
      "outputs": [
        {
          "output_type": "execute_result",
          "data": {
            "text/plain": [
              "'******************************My name is'"
            ],
            "application/vnd.google.colaboratory.intrinsic+json": {
              "type": "string"
            }
          },
          "metadata": {},
          "execution_count": 12
        }
      ]
    },
    {
      "cell_type": "code",
      "source": [
        "\n",
        "# center justified\n",
        "str =\"My name is\"\n",
        "str.center(40,'*')"
      ],
      "metadata": {
        "colab": {
          "base_uri": "https://localhost:8080/",
          "height": 36
        },
        "id": "l8UhsxxWXHA6",
        "outputId": "6101a70a-24f8-4967-9c91-73e7a0dfbb1d"
      },
      "execution_count": 13,
      "outputs": [
        {
          "output_type": "execute_result",
          "data": {
            "text/plain": [
              "'***************My name is***************'"
            ],
            "application/vnd.google.colaboratory.intrinsic+json": {
              "type": "string"
            }
          },
          "metadata": {},
          "execution_count": 13
        }
      ]
    },
    {
      "cell_type": "code",
      "source": [
        "10. What is the best way to remove whitespace characters from the start or end?"
      ],
      "metadata": {
        "id": "HWcQ1vmbXNq6"
      },
      "execution_count": null,
      "outputs": []
    },
    {
      "cell_type": "code",
      "source": [
        "\n",
        "str =\"  gfgfhgdklklkl yuyuyuuyuy  \"\n",
        "str.lstrip()"
      ],
      "metadata": {
        "colab": {
          "base_uri": "https://localhost:8080/",
          "height": 36
        },
        "id": "WKdJ-L7WXaWR",
        "outputId": "67e7d989-395e-4a99-bed8-291af39aa10a"
      },
      "execution_count": 14,
      "outputs": [
        {
          "output_type": "execute_result",
          "data": {
            "text/plain": [
              "'gfgfhgdklklkl yuyuyuuyuy  '"
            ],
            "application/vnd.google.colaboratory.intrinsic+json": {
              "type": "string"
            }
          },
          "metadata": {},
          "execution_count": 14
        }
      ]
    },
    {
      "cell_type": "code",
      "source": [
        "str =\"  gfgfhgdklklkl yuyuyuuyuy  \"\n",
        "str.rstrip()"
      ],
      "metadata": {
        "colab": {
          "base_uri": "https://localhost:8080/",
          "height": 36
        },
        "id": "iaF1m5rfXf7v",
        "outputId": "1e11dcad-2576-47e2-be37-83c305a47dc6"
      },
      "execution_count": 15,
      "outputs": [
        {
          "output_type": "execute_result",
          "data": {
            "text/plain": [
              "'  gfgfhgdklklkl yuyuyuuyuy'"
            ],
            "application/vnd.google.colaboratory.intrinsic+json": {
              "type": "string"
            }
          },
          "metadata": {},
          "execution_count": 15
        }
      ]
    }
  ]
}